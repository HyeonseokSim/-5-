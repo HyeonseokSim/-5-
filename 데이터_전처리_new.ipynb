{
  "nbformat": 4,
  "nbformat_minor": 0,
  "metadata": {
    "colab": {
      "provenance": [],
      "collapsed_sections": [
        "AedSGryvrK9V",
        "HhzFOlfr7ogs",
        "FhKTi29lmxGY"
      ],
      "machine_shape": "hm",
      "gpuType": "V28"
    },
    "kernelspec": {
      "name": "python3",
      "display_name": "Python 3"
    },
    "language_info": {
      "name": "python"
    },
    "accelerator": "TPU"
  },
  "cells": [
    {
      "cell_type": "code",
      "execution_count": 1,
      "metadata": {
        "id": "Z9xcchcTEcMl"
      },
      "outputs": [],
      "source": [
        "import pandas as pd"
      ]
    },
    {
      "cell_type": "code",
      "source": [
        "from google.colab import drive\n",
        "drive.mount('/content/drive')"
      ],
      "metadata": {
        "colab": {
          "base_uri": "https://localhost:8080/"
        },
        "id": "SYU3zQflEdAd",
        "outputId": "98f0470a-aa1d-417a-ef43-0369157c6c63"
      },
      "execution_count": 86,
      "outputs": [
        {
          "output_type": "stream",
          "name": "stdout",
          "text": [
            "Drive already mounted at /content/drive; to attempt to forcibly remount, call drive.mount(\"/content/drive\", force_remount=True).\n"
          ]
        }
      ]
    },
    {
      "cell_type": "markdown",
      "source": [
        "## 데이터 로드"
      ],
      "metadata": {
        "id": "JdY8p5-_7jaZ"
      }
    },
    {
      "cell_type": "markdown",
      "source": [
        "### 1. 농산물 가격 데이터"
      ],
      "metadata": {
        "id": "AedSGryvrK9V"
      }
    },
    {
      "cell_type": "code",
      "source": [
        "apple_data = pd.read_csv(\"/content/drive/MyDrive/통계최강자전/data/apple_data.csv\",encoding='cp949')\n",
        "pear_data = pd.read_csv(\"/content/drive/MyDrive/통계최강자전/data/pear_data.csv\",encoding='cp949')\n",
        "persimmon_data = pd.read_csv(\"/content/drive/MyDrive/통계최강자전/data/persimmon_data.csv\",encoding='cp949')\n",
        "spinach_data = pd.read_csv(\"/content/drive/MyDrive/통계최강자전/data/spinach_data.csv\",encoding='cp949')\n",
        "moo_data = pd.read_csv(\"/content/drive/MyDrive/통계최강자전/data/mooooo_data.csv\",encoding='cp949')\n",
        "pumpkin_data = pd.read_csv(\"/content/drive/MyDrive/통계최강자전/data/babypumpkin_data.csv\",encoding='cp949')"
      ],
      "metadata": {
        "id": "7BmutvZ6arDB"
      },
      "execution_count": 87,
      "outputs": []
    },
    {
      "cell_type": "code",
      "source": [
        "spinach_data[spinach_data['date']=='2023-05-25']"
      ],
      "metadata": {
        "colab": {
          "base_uri": "https://localhost:8080/",
          "height": 269
        },
        "collapsed": true,
        "id": "FjCcRo86k5-t",
        "outputId": "a8a571ab-9803-4db9-9342-bf3439dd0452"
      },
      "execution_count": 88,
      "outputs": [
        {
          "output_type": "execute_result",
          "data": {
            "text/plain": [
              "             date  holiday  temp  temp_range  prec  mean_wind  max_inst_wind  \\\n",
              "15935  2023-05-25        0  18.7         8.5   NaN        1.1            6.2   \n",
              "15936  2023-05-25        0  18.7         8.5   NaN        1.1            6.2   \n",
              "15937  2023-05-25        0  18.7         8.5   NaN        1.1            6.2   \n",
              "15938  2023-05-25        0  18.7         8.5   NaN        1.1            6.2   \n",
              "15939  2023-05-25        0  18.7         8.5   NaN        1.1            6.2   \n",
              "15940  2023-05-25        0  18.7         8.5   NaN        1.1            6.2   \n",
              "15941  2023-05-25        0  18.7         8.5   NaN        1.1            6.2   \n",
              "\n",
              "      name species product grade   price discount      etl time  \n",
              "15935  시금치     시금치            상품   480.0        N  2.024010e+13  \n",
              "15936  시금치     시금치            상품   520.0        N  2.024010e+13  \n",
              "15937  시금치     시금치            상품   620.0        Y  2.024010e+13  \n",
              "15938  시금치     시금치            상품   570.0        N  2.024010e+13  \n",
              "15939  시금치     시금치            상품   620.0        Y  2.024010e+13  \n",
              "15940  시금치     시금치            상품   790.0        N  2.024010e+13  \n",
              "15941  시금치     시금치            상품  1050.0        N  2.024010e+13  "
            ],
            "text/html": [
              "\n",
              "  <div id=\"df-93d3d2ec-09d7-4c6e-a7b2-d8f48a04f16c\" class=\"colab-df-container\">\n",
              "    <div>\n",
              "<style scoped>\n",
              "    .dataframe tbody tr th:only-of-type {\n",
              "        vertical-align: middle;\n",
              "    }\n",
              "\n",
              "    .dataframe tbody tr th {\n",
              "        vertical-align: top;\n",
              "    }\n",
              "\n",
              "    .dataframe thead th {\n",
              "        text-align: right;\n",
              "    }\n",
              "</style>\n",
              "<table border=\"1\" class=\"dataframe\">\n",
              "  <thead>\n",
              "    <tr style=\"text-align: right;\">\n",
              "      <th></th>\n",
              "      <th>date</th>\n",
              "      <th>holiday</th>\n",
              "      <th>temp</th>\n",
              "      <th>temp_range</th>\n",
              "      <th>prec</th>\n",
              "      <th>mean_wind</th>\n",
              "      <th>max_inst_wind</th>\n",
              "      <th>name</th>\n",
              "      <th>species</th>\n",
              "      <th>product grade</th>\n",
              "      <th>price</th>\n",
              "      <th>discount</th>\n",
              "      <th>etl time</th>\n",
              "    </tr>\n",
              "  </thead>\n",
              "  <tbody>\n",
              "    <tr>\n",
              "      <th>15935</th>\n",
              "      <td>2023-05-25</td>\n",
              "      <td>0</td>\n",
              "      <td>18.7</td>\n",
              "      <td>8.5</td>\n",
              "      <td>NaN</td>\n",
              "      <td>1.1</td>\n",
              "      <td>6.2</td>\n",
              "      <td>시금치</td>\n",
              "      <td>시금치</td>\n",
              "      <td>상품</td>\n",
              "      <td>480.0</td>\n",
              "      <td>N</td>\n",
              "      <td>2.024010e+13</td>\n",
              "    </tr>\n",
              "    <tr>\n",
              "      <th>15936</th>\n",
              "      <td>2023-05-25</td>\n",
              "      <td>0</td>\n",
              "      <td>18.7</td>\n",
              "      <td>8.5</td>\n",
              "      <td>NaN</td>\n",
              "      <td>1.1</td>\n",
              "      <td>6.2</td>\n",
              "      <td>시금치</td>\n",
              "      <td>시금치</td>\n",
              "      <td>상품</td>\n",
              "      <td>520.0</td>\n",
              "      <td>N</td>\n",
              "      <td>2.024010e+13</td>\n",
              "    </tr>\n",
              "    <tr>\n",
              "      <th>15937</th>\n",
              "      <td>2023-05-25</td>\n",
              "      <td>0</td>\n",
              "      <td>18.7</td>\n",
              "      <td>8.5</td>\n",
              "      <td>NaN</td>\n",
              "      <td>1.1</td>\n",
              "      <td>6.2</td>\n",
              "      <td>시금치</td>\n",
              "      <td>시금치</td>\n",
              "      <td>상품</td>\n",
              "      <td>620.0</td>\n",
              "      <td>Y</td>\n",
              "      <td>2.024010e+13</td>\n",
              "    </tr>\n",
              "    <tr>\n",
              "      <th>15938</th>\n",
              "      <td>2023-05-25</td>\n",
              "      <td>0</td>\n",
              "      <td>18.7</td>\n",
              "      <td>8.5</td>\n",
              "      <td>NaN</td>\n",
              "      <td>1.1</td>\n",
              "      <td>6.2</td>\n",
              "      <td>시금치</td>\n",
              "      <td>시금치</td>\n",
              "      <td>상품</td>\n",
              "      <td>570.0</td>\n",
              "      <td>N</td>\n",
              "      <td>2.024010e+13</td>\n",
              "    </tr>\n",
              "    <tr>\n",
              "      <th>15939</th>\n",
              "      <td>2023-05-25</td>\n",
              "      <td>0</td>\n",
              "      <td>18.7</td>\n",
              "      <td>8.5</td>\n",
              "      <td>NaN</td>\n",
              "      <td>1.1</td>\n",
              "      <td>6.2</td>\n",
              "      <td>시금치</td>\n",
              "      <td>시금치</td>\n",
              "      <td>상품</td>\n",
              "      <td>620.0</td>\n",
              "      <td>Y</td>\n",
              "      <td>2.024010e+13</td>\n",
              "    </tr>\n",
              "    <tr>\n",
              "      <th>15940</th>\n",
              "      <td>2023-05-25</td>\n",
              "      <td>0</td>\n",
              "      <td>18.7</td>\n",
              "      <td>8.5</td>\n",
              "      <td>NaN</td>\n",
              "      <td>1.1</td>\n",
              "      <td>6.2</td>\n",
              "      <td>시금치</td>\n",
              "      <td>시금치</td>\n",
              "      <td>상품</td>\n",
              "      <td>790.0</td>\n",
              "      <td>N</td>\n",
              "      <td>2.024010e+13</td>\n",
              "    </tr>\n",
              "    <tr>\n",
              "      <th>15941</th>\n",
              "      <td>2023-05-25</td>\n",
              "      <td>0</td>\n",
              "      <td>18.7</td>\n",
              "      <td>8.5</td>\n",
              "      <td>NaN</td>\n",
              "      <td>1.1</td>\n",
              "      <td>6.2</td>\n",
              "      <td>시금치</td>\n",
              "      <td>시금치</td>\n",
              "      <td>상품</td>\n",
              "      <td>1050.0</td>\n",
              "      <td>N</td>\n",
              "      <td>2.024010e+13</td>\n",
              "    </tr>\n",
              "  </tbody>\n",
              "</table>\n",
              "</div>\n",
              "    <div class=\"colab-df-buttons\">\n",
              "\n",
              "  <div class=\"colab-df-container\">\n",
              "    <button class=\"colab-df-convert\" onclick=\"convertToInteractive('df-93d3d2ec-09d7-4c6e-a7b2-d8f48a04f16c')\"\n",
              "            title=\"Convert this dataframe to an interactive table.\"\n",
              "            style=\"display:none;\">\n",
              "\n",
              "  <svg xmlns=\"http://www.w3.org/2000/svg\" height=\"24px\" viewBox=\"0 -960 960 960\">\n",
              "    <path d=\"M120-120v-720h720v720H120Zm60-500h600v-160H180v160Zm220 220h160v-160H400v160Zm0 220h160v-160H400v160ZM180-400h160v-160H180v160Zm440 0h160v-160H620v160ZM180-180h160v-160H180v160Zm440 0h160v-160H620v160Z\"/>\n",
              "  </svg>\n",
              "    </button>\n",
              "\n",
              "  <style>\n",
              "    .colab-df-container {\n",
              "      display:flex;\n",
              "      gap: 12px;\n",
              "    }\n",
              "\n",
              "    .colab-df-convert {\n",
              "      background-color: #E8F0FE;\n",
              "      border: none;\n",
              "      border-radius: 50%;\n",
              "      cursor: pointer;\n",
              "      display: none;\n",
              "      fill: #1967D2;\n",
              "      height: 32px;\n",
              "      padding: 0 0 0 0;\n",
              "      width: 32px;\n",
              "    }\n",
              "\n",
              "    .colab-df-convert:hover {\n",
              "      background-color: #E2EBFA;\n",
              "      box-shadow: 0px 1px 2px rgba(60, 64, 67, 0.3), 0px 1px 3px 1px rgba(60, 64, 67, 0.15);\n",
              "      fill: #174EA6;\n",
              "    }\n",
              "\n",
              "    .colab-df-buttons div {\n",
              "      margin-bottom: 4px;\n",
              "    }\n",
              "\n",
              "    [theme=dark] .colab-df-convert {\n",
              "      background-color: #3B4455;\n",
              "      fill: #D2E3FC;\n",
              "    }\n",
              "\n",
              "    [theme=dark] .colab-df-convert:hover {\n",
              "      background-color: #434B5C;\n",
              "      box-shadow: 0px 1px 3px 1px rgba(0, 0, 0, 0.15);\n",
              "      filter: drop-shadow(0px 1px 2px rgba(0, 0, 0, 0.3));\n",
              "      fill: #FFFFFF;\n",
              "    }\n",
              "  </style>\n",
              "\n",
              "    <script>\n",
              "      const buttonEl =\n",
              "        document.querySelector('#df-93d3d2ec-09d7-4c6e-a7b2-d8f48a04f16c button.colab-df-convert');\n",
              "      buttonEl.style.display =\n",
              "        google.colab.kernel.accessAllowed ? 'block' : 'none';\n",
              "\n",
              "      async function convertToInteractive(key) {\n",
              "        const element = document.querySelector('#df-93d3d2ec-09d7-4c6e-a7b2-d8f48a04f16c');\n",
              "        const dataTable =\n",
              "          await google.colab.kernel.invokeFunction('convertToInteractive',\n",
              "                                                    [key], {});\n",
              "        if (!dataTable) return;\n",
              "\n",
              "        const docLinkHtml = 'Like what you see? Visit the ' +\n",
              "          '<a target=\"_blank\" href=https://colab.research.google.com/notebooks/data_table.ipynb>data table notebook</a>'\n",
              "          + ' to learn more about interactive tables.';\n",
              "        element.innerHTML = '';\n",
              "        dataTable['output_type'] = 'display_data';\n",
              "        await google.colab.output.renderOutput(dataTable, element);\n",
              "        const docLink = document.createElement('div');\n",
              "        docLink.innerHTML = docLinkHtml;\n",
              "        element.appendChild(docLink);\n",
              "      }\n",
              "    </script>\n",
              "  </div>\n",
              "\n",
              "\n",
              "<div id=\"df-11849981-0a8c-4abe-926a-72420ae4ed4f\">\n",
              "  <button class=\"colab-df-quickchart\" onclick=\"quickchart('df-11849981-0a8c-4abe-926a-72420ae4ed4f')\"\n",
              "            title=\"Suggest charts\"\n",
              "            style=\"display:none;\">\n",
              "\n",
              "<svg xmlns=\"http://www.w3.org/2000/svg\" height=\"24px\"viewBox=\"0 0 24 24\"\n",
              "     width=\"24px\">\n",
              "    <g>\n",
              "        <path d=\"M19 3H5c-1.1 0-2 .9-2 2v14c0 1.1.9 2 2 2h14c1.1 0 2-.9 2-2V5c0-1.1-.9-2-2-2zM9 17H7v-7h2v7zm4 0h-2V7h2v10zm4 0h-2v-4h2v4z\"/>\n",
              "    </g>\n",
              "</svg>\n",
              "  </button>\n",
              "\n",
              "<style>\n",
              "  .colab-df-quickchart {\n",
              "      --bg-color: #E8F0FE;\n",
              "      --fill-color: #1967D2;\n",
              "      --hover-bg-color: #E2EBFA;\n",
              "      --hover-fill-color: #174EA6;\n",
              "      --disabled-fill-color: #AAA;\n",
              "      --disabled-bg-color: #DDD;\n",
              "  }\n",
              "\n",
              "  [theme=dark] .colab-df-quickchart {\n",
              "      --bg-color: #3B4455;\n",
              "      --fill-color: #D2E3FC;\n",
              "      --hover-bg-color: #434B5C;\n",
              "      --hover-fill-color: #FFFFFF;\n",
              "      --disabled-bg-color: #3B4455;\n",
              "      --disabled-fill-color: #666;\n",
              "  }\n",
              "\n",
              "  .colab-df-quickchart {\n",
              "    background-color: var(--bg-color);\n",
              "    border: none;\n",
              "    border-radius: 50%;\n",
              "    cursor: pointer;\n",
              "    display: none;\n",
              "    fill: var(--fill-color);\n",
              "    height: 32px;\n",
              "    padding: 0;\n",
              "    width: 32px;\n",
              "  }\n",
              "\n",
              "  .colab-df-quickchart:hover {\n",
              "    background-color: var(--hover-bg-color);\n",
              "    box-shadow: 0 1px 2px rgba(60, 64, 67, 0.3), 0 1px 3px 1px rgba(60, 64, 67, 0.15);\n",
              "    fill: var(--button-hover-fill-color);\n",
              "  }\n",
              "\n",
              "  .colab-df-quickchart-complete:disabled,\n",
              "  .colab-df-quickchart-complete:disabled:hover {\n",
              "    background-color: var(--disabled-bg-color);\n",
              "    fill: var(--disabled-fill-color);\n",
              "    box-shadow: none;\n",
              "  }\n",
              "\n",
              "  .colab-df-spinner {\n",
              "    border: 2px solid var(--fill-color);\n",
              "    border-color: transparent;\n",
              "    border-bottom-color: var(--fill-color);\n",
              "    animation:\n",
              "      spin 1s steps(1) infinite;\n",
              "  }\n",
              "\n",
              "  @keyframes spin {\n",
              "    0% {\n",
              "      border-color: transparent;\n",
              "      border-bottom-color: var(--fill-color);\n",
              "      border-left-color: var(--fill-color);\n",
              "    }\n",
              "    20% {\n",
              "      border-color: transparent;\n",
              "      border-left-color: var(--fill-color);\n",
              "      border-top-color: var(--fill-color);\n",
              "    }\n",
              "    30% {\n",
              "      border-color: transparent;\n",
              "      border-left-color: var(--fill-color);\n",
              "      border-top-color: var(--fill-color);\n",
              "      border-right-color: var(--fill-color);\n",
              "    }\n",
              "    40% {\n",
              "      border-color: transparent;\n",
              "      border-right-color: var(--fill-color);\n",
              "      border-top-color: var(--fill-color);\n",
              "    }\n",
              "    60% {\n",
              "      border-color: transparent;\n",
              "      border-right-color: var(--fill-color);\n",
              "    }\n",
              "    80% {\n",
              "      border-color: transparent;\n",
              "      border-right-color: var(--fill-color);\n",
              "      border-bottom-color: var(--fill-color);\n",
              "    }\n",
              "    90% {\n",
              "      border-color: transparent;\n",
              "      border-bottom-color: var(--fill-color);\n",
              "    }\n",
              "  }\n",
              "</style>\n",
              "\n",
              "  <script>\n",
              "    async function quickchart(key) {\n",
              "      const quickchartButtonEl =\n",
              "        document.querySelector('#' + key + ' button');\n",
              "      quickchartButtonEl.disabled = true;  // To prevent multiple clicks.\n",
              "      quickchartButtonEl.classList.add('colab-df-spinner');\n",
              "      try {\n",
              "        const charts = await google.colab.kernel.invokeFunction(\n",
              "            'suggestCharts', [key], {});\n",
              "      } catch (error) {\n",
              "        console.error('Error during call to suggestCharts:', error);\n",
              "      }\n",
              "      quickchartButtonEl.classList.remove('colab-df-spinner');\n",
              "      quickchartButtonEl.classList.add('colab-df-quickchart-complete');\n",
              "    }\n",
              "    (() => {\n",
              "      let quickchartButtonEl =\n",
              "        document.querySelector('#df-11849981-0a8c-4abe-926a-72420ae4ed4f button');\n",
              "      quickchartButtonEl.style.display =\n",
              "        google.colab.kernel.accessAllowed ? 'block' : 'none';\n",
              "    })();\n",
              "  </script>\n",
              "</div>\n",
              "\n",
              "    </div>\n",
              "  </div>\n"
            ],
            "application/vnd.google.colaboratory.intrinsic+json": {
              "type": "dataframe",
              "repr_error": "0"
            }
          },
          "metadata": {},
          "execution_count": 88
        }
      ]
    },
    {
      "cell_type": "markdown",
      "source": [
        "- 시금치는 2023년 5월 25일부터 1kg에서 100g으로 조사 단위가 바뀌었으므로 1kg로 단위를 맞춰줌"
      ],
      "metadata": {
        "id": "S8shMiDClTMW"
      }
    },
    {
      "cell_type": "code",
      "source": [
        "for idx in range(len(spinach_data)):\n",
        "    if idx >= 15935:\n",
        "        spinach_data.loc[idx, 'price'] = spinach_data.loc[idx, 'price'] * 10"
      ],
      "metadata": {
        "id": "_1LReXdOkrUO"
      },
      "execution_count": 89,
      "outputs": []
    },
    {
      "cell_type": "markdown",
      "source": [
        "- 필요한 컬럼만 추출\n",
        "- 결측치가 안 채워진 (선형 보간되지 않은) 데이터를 사용"
      ],
      "metadata": {
        "id": "ia8O8w0Zzp7A"
      }
    },
    {
      "cell_type": "code",
      "source": [
        "apple_data = apple_data[~apple_data.price.isnull()][['date','name','species','product grade','price']]\n",
        "pear_data = pear_data[~pear_data.price.isnull()][['date','name','species','product grade','price']]\n",
        "persimmon_data = persimmon_data[~persimmon_data.price.isnull()][['date','name','species','product grade','price']]\n",
        "spinach_data = spinach_data[~spinach_data.price.isnull()][['date','name','species','product grade','price']]\n",
        "moo_data = moo_data[~moo_data.price.isnull()][['date','name','species','product grade','price']]\n",
        "pumpkin_data = pumpkin_data[~pumpkin_data.price.isnull()][['date','name','species','product grade','price']]"
      ],
      "metadata": {
        "id": "Zlgp-u7ga1n6"
      },
      "execution_count": 90,
      "outputs": []
    },
    {
      "cell_type": "markdown",
      "source": [
        "- 데이터셋을 확인한 결과, 쓰가루(아오리)와 쓰가루가 같아서 하나로 통일함"
      ],
      "metadata": {
        "id": "5sfIBpi7zKs5"
      }
    },
    {
      "cell_type": "code",
      "source": [
        "apple_data['species'] = apple_data['species'].apply(lambda x: '쓰가루' if x == '쓰가루(아오리)' else x)"
      ],
      "metadata": {
        "id": "8Z-YM3wYcJQm"
      },
      "execution_count": 91,
      "outputs": []
    },
    {
      "cell_type": "markdown",
      "source": [
        "### 2. 날씨 데이터"
      ],
      "metadata": {
        "id": "HhzFOlfr7ogs"
      }
    },
    {
      "cell_type": "code",
      "source": [
        "apple_weather_data = pd.read_csv(\"/content/drive/MyDrive/통계최강자전/data/apple_weather_data.csv\",encoding='cp949')\n",
        "pear_weather_data = pd.read_csv(\"/content/drive/MyDrive/통계최강자전/data/pear_weather_data.csv\",encoding='cp949')[:3287]\n",
        "persimmon_weather_data = pd.read_csv(\"/content/drive/MyDrive/통계최강자전/data/persimmon_weather_data.csv\",encoding='cp949')\n",
        "spinach_weather_data = pd.read_csv(\"/content/drive/MyDrive/통계최강자전/data/spinach_weather_data.csv\",encoding='cp949')\n",
        "moo_weather_data = pd.read_csv(\"/content/drive/MyDrive/통계최강자전/data/moo_weather_data.csv\",encoding='cp949')\n",
        "pumpkin_weather_data = pd.read_csv(\"/content/drive/MyDrive/통계최강자전/data/pumpkin_weather_data.csv\",encoding='cp949')[:3287]"
      ],
      "metadata": {
        "id": "OYizqnZ__ui5"
      },
      "execution_count": 92,
      "outputs": []
    },
    {
      "cell_type": "markdown",
      "source": [
        "- 컬럼명 바꾸기"
      ],
      "metadata": {
        "id": "E7kZRl-10vY_"
      }
    },
    {
      "cell_type": "code",
      "source": [
        "apple_weather_data.columns = ['date', 'temp', 'temp_range', 'prec', 'mean_wind', 'max_inst_wind']\n",
        "persimmon_weather_data.columns = ['date', 'temp', 'temp_range', 'prec', 'mean_wind', 'max_inst_wind']\n",
        "moo_weather_data.columns = ['date', 'temp', 'temp_range', 'prec', 'mean_wind', 'max_inst_wind']\n",
        "pumpkin_weather_data.columns = ['date', 'temp', 'temp_range', 'prec', 'mean_wind', 'max_inst_wind']\n",
        "\n",
        "pear_weather_data.columns = ['date', 'temp', 'temp_range', 'mean_wind', 'max_inst_wind', 'prec']\n",
        "spinach_weather_data.columns = ['date', 'temp', 'temp_range', 'mean_wind', 'max_inst_wind', 'prec']"
      ],
      "metadata": {
        "id": "UlD3dCjl_vxU"
      },
      "execution_count": 93,
      "outputs": []
    },
    {
      "cell_type": "code",
      "source": [
        "pear_weather_data = pear_weather_data[['date', 'temp', 'temp_range', 'prec', 'mean_wind', 'max_inst_wind']]\n",
        "spinach_weather_data = spinach_weather_data[['date', 'temp', 'temp_range', 'prec', 'mean_wind', 'max_inst_wind']]"
      ],
      "metadata": {
        "id": "c60Jq9Dr_zMg"
      },
      "execution_count": 94,
      "outputs": []
    },
    {
      "cell_type": "markdown",
      "source": [
        "- date의 type을 날짜로 변환"
      ],
      "metadata": {
        "id": "1BvESG65769S"
      }
    },
    {
      "cell_type": "code",
      "source": [
        "apple_weather_data['date'] = pd.to_datetime(apple_weather_data['date'])\n",
        "pear_weather_data['date'] = pd.to_datetime(pear_weather_data['date'])\n",
        "persimmon_weather_data['date'] = pd.to_datetime(persimmon_weather_data['date'])\n",
        "spinach_weather_data['date'] = pd.to_datetime(spinach_weather_data['date'])\n",
        "moo_weather_data['date'] = pd.to_datetime(moo_weather_data['date'])\n",
        "pumpkin_weather_data['date'] = pd.to_datetime(pumpkin_weather_data['date'])"
      ],
      "metadata": {
        "id": "AglhSLX1_1QQ"
      },
      "execution_count": 95,
      "outputs": []
    },
    {
      "cell_type": "markdown",
      "source": [
        "### 3. 공휴일 데이터"
      ],
      "metadata": {
        "id": "FhKTi29lmxGY"
      }
    },
    {
      "cell_type": "code",
      "source": [
        "holiday = pd.read_csv(\"/content/drive/MyDrive/통계최강자전/data/holiday_df.csv\",encoding='cp949').groupby('date').first()[4:]\n",
        "holiday.index = pd.to_datetime(holiday.index)"
      ],
      "metadata": {
        "id": "vzi7wYOSmW_1"
      },
      "execution_count": 69,
      "outputs": []
    },
    {
      "cell_type": "markdown",
      "source": [
        "## 전처리 함수 작성"
      ],
      "metadata": {
        "id": "89iptluR8CUT"
      }
    },
    {
      "cell_type": "markdown",
      "source": [
        "전처리 순서  \n",
        "1. 하루에 하나의 가격이 대응되도록, 하루에 기록된 가격들의 중앙값을 찾아줌\n",
        "2. 가격을 일주일 단위로 묶기 위해, 7일치 가격의 평균값을 찾아줌\n",
        "\n",
        "1번 방식의 기준 - mixture 분포  \n",
        "- 전: 하루에 여러 품종이 판매되었을 경우, 하나의 품종을 딱 지정해 그 품종의 가격들의 중앙값을 찾음  \n",
        "- 후: 품종에 관계없이 하루에 기록된 모든 가격들의 중앙값을 찾아줌"
      ],
      "metadata": {
        "id": "hEU_4c8VyDP4"
      }
    },
    {
      "cell_type": "markdown",
      "source": [
        "일자별 중앙값 찾기\n",
        "\n",
        "- 이때 일자별로 어떤 '품종'의 가격이 매핑되었는지를 알기 위해 그 중앙값에 대응하는 품종까지 찾아주도록 하였음  \n",
        "- 중앙값에 대응하는 품종이 여러 개 있으면 품종의 최빈값을 찾아줌, 이마저 동점이면 홍로 > 쓰가루 > 후지 순서로 우선순위를 가짐  \n",
        "\n",
        "그룹핑 기준  \n",
        "- 일주일 단위로 묶는다면, 7일치 가격들의 평균값으로 입력\n",
        "- 일주일 단위로 묶어주기 위해 데이터가 월요일부터 시작되도록 함\n",
        "- 통일성을 위해 일별로 묶어줄 때도 데이터가 월요일부터 시작되도록 함"
      ],
      "metadata": {
        "id": "1aX9D_1Qb9wR"
      }
    },
    {
      "cell_type": "code",
      "source": [
        "# 중앙값을 구할 때 두 값 중 더 큰 값을 반환\n",
        "def custom_median(data):\n",
        "    # price 열을 받아 오름차순 정렬\n",
        "    sorted_series = data['price'].sort_values()\n",
        "    n = len(sorted_series)\n",
        "\n",
        "    if n % 2 == 0:\n",
        "        return sorted_series.iloc[n//2]    # 짝수일 때는 두 중앙값 중 더 큰 값\n",
        "    else:\n",
        "        return sorted_series.median()      # 홀수일 때는 일반 중앙값\n",
        "\n",
        "# 일자별 중앙값을 찾아 데이터프레임 반환\n",
        "def preprocess_price(data, grade, option):\n",
        "\n",
        "    # 품목의 등급 선택\n",
        "    if (grade == '상품') | (grade == '중품'):\n",
        "        data = data[(data['product grade']==grade)]\n",
        "    else:\n",
        "        print(\"품종을 지정해주세요.\")\n",
        "        return None\n",
        "\n",
        "    def grouping_by_date(data):\n",
        "\n",
        "        # 검색할 데이터프레임: data\n",
        "        # 출력할 데이터프레임: time_series_data\n",
        "\n",
        "        # 일자별 중앙값 찾기, 이때 데이터가 짝수 개 있으면 두 중앙값 중 더 큰 값으로 찾기\n",
        "        time_series_data = data.groupby('date',as_index=False)[['price']].apply(custom_median)\n",
        "\n",
        "        # 일자별 중앙값에 대응하는 품종을 입력해주기 위한 빈 컬럼 생성\n",
        "        time_series_data['species'] = None\n",
        "\n",
        "        try:\n",
        "            for idx in range(len(time_series_data)):\n",
        "                median_date = time_series_data.loc[idx,'date'].iloc[0]\n",
        "                median_price = time_series_data.loc[idx,'price'].iloc[0]\n",
        "\n",
        "                # 원본 데이터프레임에서 중앙값에 대응하는 행을 찾기\n",
        "                median_rows = data[(data['date'] == median_date) & (data['price'] == median_price)]\n",
        "\n",
        "                # 그 행에서 품종을 찾아 입력, 이때 중앙값에 대응하는 행이 여러 개이면 품종의 최빈값을 입력\n",
        "                # 최빈값이 동점일 경우 홍로 > 쓰가루 > 후지 순으로 우선순위 설정\n",
        "\n",
        "                if len(median_rows['species'].mode()) == 3:\n",
        "                    time_series_data.loc[idx, 'species'] = '홍로'\n",
        "                elif len(median_rows[median_rows['species'] != '후지']['species'].mode()) == 2:\n",
        "                    time_series_data.loc[idx, 'species'] = '홍로'\n",
        "                elif len(median_rows[median_rows['species'] != '후지']['species'].mode()) == 1:\n",
        "                    time_series_data.loc[idx, 'species'] = median_rows[median_rows['species'] != '후지']['species'].mode().iloc[0]\n",
        "                else:\n",
        "                    time_series_data.loc[idx, 'species'] = '후지'\n",
        "\n",
        "            # 기타 전처리\n",
        "            time_series_data.columns = time_series_data.columns.get_level_values(0)\n",
        "            time_series_data['date'] = pd.to_datetime(time_series_data['date'])\n",
        "            time_series_data.set_index('date',inplace=True)\n",
        "\n",
        "            return time_series_data[1:]   # 1월 2일은 제외\n",
        "\n",
        "        except Exception as e:\n",
        "              print(e)\n",
        "\n",
        "    if option == '일':\n",
        "          return grouping_by_date(data)\n",
        "    elif option == '주':\n",
        "          return grouping_by_date(data)['price'].resample('W').mean()\n",
        "    else:\n",
        "        print(\"옵션을 지정해주세요.\")\n",
        "        return None"
      ],
      "metadata": {
        "id": "pH-4JTfrb9JW"
      },
      "execution_count": 50,
      "outputs": []
    },
    {
      "cell_type": "markdown",
      "source": [
        "### 2. 날씨 데이터 전처리"
      ],
      "metadata": {
        "id": "fLSGMyIr_tO-"
      }
    },
    {
      "cell_type": "markdown",
      "source": [
        "- 하나의 날씨 변수 컬럼을 7개로 늘림\n",
        "- 7일 단위로 묶을 때, 매일매일의 날씨 데이터를 월요일 ~ 일요일 날씨 변수 컬럼에 각각 다시 입력시켜줌\n",
        "- 나중에 7일치 날씨의 통계량, 이동평균 등 파생변수를 만들어도 될 듯"
      ],
      "metadata": {
        "id": "7GxqTRHV90ML"
      }
    },
    {
      "cell_type": "code",
      "source": [
        "# 일주일 단위로 묶기 위한 작업\n",
        "def group_weekly(df):\n",
        "    # 새로 만들 데이터프레임을 저장할 리스트\n",
        "    weekly_data = []\n",
        "\n",
        "    # 일주일 단위로 7개씩 슬라이싱하여 처리\n",
        "    for i in range(0, len(df), 7):\n",
        "        group = df.iloc[i:i+7].reset_index(drop=True)\n",
        "\n",
        "        # 마지막 날짜로 대표 날짜를 선택\n",
        "        last_date = group['date'].iloc[-1]\n",
        "\n",
        "        # 딕셔너리 생성\n",
        "        result = {'date': last_date}\n",
        "\n",
        "        # 컬럼 이름과 시간 범위\n",
        "        columns = ['temp', 'temp_range', 'prec', 'mean_wind', 'max_inst_wind']\n",
        "\n",
        "        # 각 컬럼에 대해 t-6부터 t까지의 값을 반복적으로 추가\n",
        "        for col in columns:\n",
        "            for i in range(6, -1, -1):\n",
        "                result[f'{col}_t-{i}' if i > 0 else f'{col}_t'] = group[col].iloc[6 - i]\n",
        "\n",
        "        # 리스트에 추가\n",
        "        weekly_data.append(result)\n",
        "\n",
        "    # 리스트를 새로운 데이터프레임으로 변환\n",
        "    expanded_df = pd.DataFrame(weekly_data)\n",
        "\n",
        "    return expanded_df"
      ],
      "metadata": {
        "id": "Aqkzd7r8M1Oj"
      },
      "execution_count": 52,
      "outputs": []
    },
    {
      "cell_type": "markdown",
      "source": [
        "- 강수량 더미변수화\n",
        "- 일주일 단위로 묶어주기 위해 데이터가 월요일부터 시작되도록 함, 2015년 1월 5일 월요일부터 보자"
      ],
      "metadata": {
        "id": "HZFcIqAS03QQ"
      }
    },
    {
      "cell_type": "code",
      "source": [
        "def preprocess_weather(data, option):\n",
        "    # 2015년 1월 5일부터 시작\n",
        "    data = data[4:].reset_index(drop=True)\n",
        "\n",
        "    # 강수량 결측치를 0으로 채우기\n",
        "    data['prec'] = data['prec'].fillna(0)\n",
        "\n",
        "    # 강수량 범주화\n",
        "    def categorize_precipitation(prec):\n",
        "        if prec >= 80:\n",
        "            return 'high'     # 1시간 강수량이 80mm 이상일 경우, reference group\n",
        "        elif prec >= 30:\n",
        "            return 'medium'   # 1시간 강수량이 30mm~80mm일 경우\n",
        "        else:\n",
        "            return 'low'      # 1시간 강수량이 30mm 미만일 경우\n",
        "\n",
        "    data.prec = data.prec.apply(categorize_precipitation)\n",
        "\n",
        "    # 날짜 단위 지정\n",
        "    if option == '일':\n",
        "        return data                 # 주 단위로 묶지 않기\n",
        "    elif option == '주':\n",
        "        return group_weekly(data)   # 주 단위로 묶기\n",
        "    else:\n",
        "        print(\"옵션을 지정해주세요.\")\n",
        "        return None"
      ],
      "metadata": {
        "id": "ruziAkvW_2zG"
      },
      "execution_count": 59,
      "outputs": []
    },
    {
      "cell_type": "markdown",
      "source": [
        "### 3. 데이터 병합"
      ],
      "metadata": {
        "id": "yCkjY91-Gslb"
      }
    },
    {
      "cell_type": "markdown",
      "source": [
        "- 강수량 원핫인코딩도 함께 수행\n",
        "- 가격 결측치에 선형 보간법 적용"
      ],
      "metadata": {
        "id": "zPbdqFLYmwB9"
      }
    },
    {
      "cell_type": "code",
      "source": [
        "def merge_data(price_data, weather_data, grade, option):\n",
        "    # 데이터 병합\n",
        "    data = pd.merge(preprocess_price(price_data,grade,option),\n",
        "                    preprocess_weather(weather_data,option),\n",
        "                    left_on='date',\n",
        "                    right_on='date',\n",
        "                    how='right')\n",
        "\n",
        "    # 가격 결측치에 선형 보간법 적용\n",
        "    if data['price'].isnull().sum() > 0:\n",
        "        data['price'] = data['price'].interpolate(method='linear')\n",
        "\n",
        "    # 일 단위일 때 강수량 원핫인코딩\n",
        "    def onehot_daily(data):\n",
        "        # 원핫인코딩\n",
        "        data = pd.get_dummies(data,columns=['prec'])\n",
        "\n",
        "        # prec 열에 대해 적용\n",
        "        # boolean을 0,1로 변환\n",
        "        data['prec_low'] = data['prec_low'].astype(int)\n",
        "        data['prec_medium'] = data['prec_medium'].astype(int)\n",
        "\n",
        "        # 다중공선성 제거를 위해 high 열 제거\n",
        "        data.drop('prec_high',axis=1,inplace=True)\n",
        "\n",
        "        return data\n",
        "\n",
        "    # 주 단위로 그룹핑 후 강수량 원핫인코딩\n",
        "    def onehot_weekly(data):\n",
        "        # 원핫인코딩\n",
        "        data = pd.get_dummies(data,columns=['prec_t-6','prec_t-5','prec_t-4','prec_t-3','prec_t-2','prec_t-1','prec_t'])\n",
        "\n",
        "        # prec_t-6 ~ prec_t-1 열에 대해 적용\n",
        "        # boolean을 0,1로 변환\n",
        "        for i in range(6, 0, -1):\n",
        "            for status in ['low','medium']:\n",
        "                col = f'prec_t-{i}_{status}'\n",
        "                data[col] = data[col].astype(int)\n",
        "            # 다중공선성 제거를 위해 high 열 제거\n",
        "            col = f'prec_t-{i}_high'\n",
        "            if col in data.columns:\n",
        "                data.drop(col,axis=1,inplace=True)\n",
        "\n",
        "        # prec_t 열에 대해 적용\n",
        "        data['prec_t_low'] = data['prec_t_low'].astype(int)\n",
        "        data['prec_t_medium'] = data['prec_t_medium'].astype(int)\n",
        "        # 다중공선성 제거를 위해 high 열 제거\n",
        "        if 'prec_t_high' in data.columns:\n",
        "            data.drop('prec_t_high',axis=1,inplace=True)\n",
        "\n",
        "        return data\n",
        "\n",
        "    if option == '일':\n",
        "        # 공휴일 데이터와 병합\n",
        "        final_data = pd.merge(holiday, onehot_daily(data),left_on='date',right_on='date', how='left')\n",
        "        return final_data\n",
        "    elif option == '주':\n",
        "        return onehot_weekly(data)\n",
        "    else:\n",
        "        print(\"옵션을 지정해주세요.\")"
      ],
      "metadata": {
        "id": "Msn7_lo6P1B4"
      },
      "execution_count": 85,
      "outputs": []
    },
    {
      "cell_type": "markdown",
      "source": [
        "### 4. 모든 데이터에 적용"
      ],
      "metadata": {
        "id": "kKpq_UlpIl6X"
      }
    },
    {
      "cell_type": "markdown",
      "source": [
        "함수 사용 방법\n",
        "- merge_data(농산물 데이터, 날씨 데이터, 등급, 옵션)\n",
        "- 등급: '상품', '중품'\n",
        "- 옵션: '일', '주'"
      ],
      "metadata": {
        "id": "SSjeBo9Oc4sa"
      }
    },
    {
      "cell_type": "code",
      "source": [
        "# 일 단위\n",
        "apple_1st_by_day = merge_data(apple_data, apple_weather_data, '상품', '일')\n",
        "pear_1st_by_day = merge_data(pear_data, pear_weather_data, '상품', '일')\n",
        "persimmon_1st_by_day = merge_data(persimmon_data, persimmon_weather_data, '상품', '일')\n",
        "spinach_1st_by_day = merge_data(spinach_data, spinach_weather_data, '상품', '일')\n",
        "moo_1st_by_day = merge_data(moo_data, moo_weather_data, '상품', '일')\n",
        "pumpkin_1st_by_day = merge_data(pumpkin_data, pumpkin_weather_data, '상품', '일')\n",
        "print('========== 일 단위, 상품 완료 ==========')\n",
        "\n",
        "apple_2nd_by_day = merge_data(apple_data, apple_weather_data, '중품', '일')\n",
        "pear_2nd_by_day = merge_data(pear_data, pear_weather_data, '중품', '일')\n",
        "persimmon_2nd_by_day = merge_data(persimmon_data, persimmon_weather_data, '중품', '일')\n",
        "spinach_2nd_by_day = merge_data(spinach_data, spinach_weather_data, '중품', '일')\n",
        "moo_2nd_by_day = merge_data(moo_data, moo_weather_data, '중품', '일')\n",
        "pumpkin_2nd_by_day = merge_data(pumpkin_data, pumpkin_weather_data, '중품', '일')\n",
        "print('========== 일 단위, 중품 완료 ==========')\n",
        "\n",
        "# 주 단위\n",
        "apple_1st_by_week = merge_data(apple_data, apple_weather_data, '상품', '주')\n",
        "pear_1st_by_week = merge_data(pear_data, pear_weather_data, '상품', '주')\n",
        "persimmon_1st_by_week = merge_data(persimmon_data, persimmon_weather_data, '상품', '주')\n",
        "spinach_1st_by_week = merge_data(spinach_data, spinach_weather_data, '상품', '주')\n",
        "moo_1st_by_week = merge_data(moo_data, moo_weather_data, '상품', '주')\n",
        "pumpkin_1st_by_week = merge_data(pumpkin_data, pumpkin_weather_data, '상품', '주')\n",
        "print('========== 주 단위, 상품 완료 ==========')\n",
        "\n",
        "apple_2nd_by_week = merge_data(apple_data, apple_weather_data, '중품', '주')\n",
        "pear_2nd_by_week = merge_data(pear_data, pear_weather_data, '중품', '주')\n",
        "persimmon_2nd_by_week = merge_data(persimmon_data, persimmon_weather_data, '중품', '주')\n",
        "spinach_2nd_by_week = merge_data(spinach_data, spinach_weather_data, '중품', '주')\n",
        "moo_2nd_by_week = merge_data(moo_data, moo_weather_data, '중품', '주')\n",
        "pumpkin_2nd_by_week = merge_data(pumpkin_data, pumpkin_weather_data, '중품', '주')\n",
        "print('========== 주 단위, 중품 완료 ==========')"
      ],
      "metadata": {
        "colab": {
          "base_uri": "https://localhost:8080/"
        },
        "id": "0Rf4o75wIlan",
        "outputId": "3cb2d48f-cb59-40b3-ebf2-16559613ae2a"
      },
      "execution_count": 74,
      "outputs": [
        {
          "output_type": "stream",
          "name": "stdout",
          "text": [
            "========== 일 단위, 상품 완료 ==========\n",
            "========== 일 단위, 중품 완료 ==========\n",
            "========== 주 단위, 상품 완료 ==========\n",
            "========== 주 단위, 중품 완료 ==========\n"
          ]
        }
      ]
    },
    {
      "cell_type": "markdown",
      "source": [
        "## 데이터 추출"
      ],
      "metadata": {
        "id": "PS2i2JcEeEx2"
      }
    },
    {
      "cell_type": "code",
      "source": [
        "# 일 단위\n",
        "apple_1st_by_day.to_csv('/content/drive/MyDrive/통계최강자전/data/apple_1st_by_day.csv',index=False,encoding='cp949')\n",
        "pear_1st_by_day.to_csv('/content/drive/MyDrive/통계최강자전/data/pear_1st_by_day.csv',index=False,encoding='cp949')\n",
        "persimmon_1st_by_day.to_csv('/content/drive/MyDrive/통계최강자전/data/persimmon_1st_by_day.csv',index=False,encoding='cp949')\n",
        "spinach_1st_by_day.to_csv('/content/drive/MyDrive/통계최강자전/data/spinach_1st_by_day.csv',index=False,encoding='cp949')\n",
        "moo_1st_by_day.to_csv('/content/drive/MyDrive/통계최강자전/data/moo_1st_by_day.csv',index=False,encoding='cp949')\n",
        "pumpkin_1st_by_day.to_csv('/content/drive/MyDrive/통계최강자전/data/pumpkin_1st_by_day.csv',index=False,encoding='cp949')\n",
        "\n",
        "apple_2nd_by_day.to_csv('/content/drive/MyDrive/통계최강자전/data/apple_2nd_by_day.csv',index=False,encoding='cp949')\n",
        "pear_2nd_by_day.to_csv('/content/drive/MyDrive/통계최강자전/data/pear_2nd_by_day.csv',index=False,encoding='cp949')\n",
        "persimmon_2nd_by_day.to_csv('/content/drive/MyDrive/통계최강자전/data/persimmon_2nd_by_day.csv',index=False,encoding='cp949')\n",
        "spinach_2nd_by_day.to_csv('/content/drive/MyDrive/통계최강자전/data/spinach_2nd_by_day.csv',index=False,encoding='cp949')\n",
        "moo_2nd_by_day.to_csv('/content/drive/MyDrive/통계최강자전/data/moo_2nd_by_day.csv',index=False,encoding='cp949')\n",
        "pumpkin_2nd_by_day.to_csv('/content/drive/MyDrive/통계최강자전/data/pumpkin_2nd_by_day.csv',index=False,encoding='cp949')\n",
        "\n",
        "# 주 단위\n",
        "apple_1st_by_week.to_csv('/content/drive/MyDrive/통계최강자전/data/apple_1st_by_week.csv',index=False,encoding='cp949')\n",
        "pear_1st_by_week.to_csv('/content/drive/MyDrive/통계최강자전/data/pear_1st_by_week.csv',index=False,encoding='cp949')\n",
        "persimmon_1st_by_week.to_csv('/content/drive/MyDrive/통계최강자전/data/persimmon_1st_by_week.csv',index=False,encoding='cp949')\n",
        "spinach_1st_by_week.to_csv('/content/drive/MyDrive/통계최강자전/data/spinach_1st_by_week.csv',index=False,encoding='cp949')\n",
        "moo_1st_by_week.to_csv('/content/drive/MyDrive/통계최강자전/data/moo_1st_by_week.csv',index=False,encoding='cp949')\n",
        "pumpkin_1st_by_week.to_csv('/content/drive/MyDrive/통계최강자전/data/pumpkin_1st_by_week.csv',index=False,encoding='cp949')\n",
        "\n",
        "apple_2nd_by_week.to_csv('/content/drive/MyDrive/통계최강자전/data/apple_2nd_by_week.csv',index=False,encoding='cp949')\n",
        "pear_2nd_by_week.to_csv('/content/drive/MyDrive/통계최강자전/data/pear_2nd_by_week.csv',index=False,encoding='cp949')\n",
        "persimmon_2nd_by_week.to_csv('/content/drive/MyDrive/통계최강자전/data/persimmon_2nd_by_week.csv',index=False,encoding='cp949')\n",
        "spinach_2nd_by_week.to_csv('/content/drive/MyDrive/통계최강자전/data/spinach_2nd_by_week.csv',index=False,encoding='cp949')\n",
        "moo_2nd_by_week.to_csv('/content/drive/MyDrive/통계최강자전/data/moo_2nd_by_week.csv',index=False,encoding='cp949')\n",
        "pumpkin_2nd_by_week.to_csv('/content/drive/MyDrive/통계최강자전/data/pumpkin_2nd_by_week.csv',index=False,encoding='cp949')"
      ],
      "metadata": {
        "id": "cJbjxVSWeIP4"
      },
      "execution_count": 102,
      "outputs": []
    },
    {
      "cell_type": "markdown",
      "source": [
        "## 결측치 확인"
      ],
      "metadata": {
        "id": "UXYWE2OHdW7i"
      }
    },
    {
      "cell_type": "code",
      "source": [
        "! pip install missingno"
      ],
      "metadata": {
        "collapsed": true,
        "colab": {
          "base_uri": "https://localhost:8080/"
        },
        "id": "HhLRPUiNd-Bb",
        "outputId": "88d044e9-2df0-4feb-e3ad-6af5b6ac1aee"
      },
      "execution_count": 99,
      "outputs": [
        {
          "output_type": "stream",
          "name": "stdout",
          "text": [
            "Collecting missingno\n",
            "  Downloading missingno-0.5.2-py3-none-any.whl.metadata (639 bytes)\n",
            "Requirement already satisfied: numpy in /usr/local/lib/python3.10/dist-packages (from missingno) (1.26.4)\n",
            "Requirement already satisfied: matplotlib in /usr/local/lib/python3.10/dist-packages (from missingno) (3.7.1)\n",
            "Requirement already satisfied: scipy in /usr/local/lib/python3.10/dist-packages (from missingno) (1.13.1)\n",
            "Requirement already satisfied: seaborn in /usr/local/lib/python3.10/dist-packages (from missingno) (0.13.1)\n",
            "Requirement already satisfied: contourpy>=1.0.1 in /usr/local/lib/python3.10/dist-packages (from matplotlib->missingno) (1.3.0)\n",
            "Requirement already satisfied: cycler>=0.10 in /usr/local/lib/python3.10/dist-packages (from matplotlib->missingno) (0.12.1)\n",
            "Requirement already satisfied: fonttools>=4.22.0 in /usr/local/lib/python3.10/dist-packages (from matplotlib->missingno) (4.54.1)\n",
            "Requirement already satisfied: kiwisolver>=1.0.1 in /usr/local/lib/python3.10/dist-packages (from matplotlib->missingno) (1.4.7)\n",
            "Requirement already satisfied: packaging>=20.0 in /usr/local/lib/python3.10/dist-packages (from matplotlib->missingno) (24.1)\n",
            "Requirement already satisfied: pillow>=6.2.0 in /usr/local/lib/python3.10/dist-packages (from matplotlib->missingno) (10.4.0)\n",
            "Requirement already satisfied: pyparsing>=2.3.1 in /usr/local/lib/python3.10/dist-packages (from matplotlib->missingno) (3.1.4)\n",
            "Requirement already satisfied: python-dateutil>=2.7 in /usr/local/lib/python3.10/dist-packages (from matplotlib->missingno) (2.9.0.post0)\n",
            "Requirement already satisfied: pandas>=1.2 in /usr/local/lib/python3.10/dist-packages (from seaborn->missingno) (2.2.2)\n",
            "Requirement already satisfied: pytz>=2020.1 in /usr/local/lib/python3.10/dist-packages (from pandas>=1.2->seaborn->missingno) (2024.2)\n",
            "Requirement already satisfied: tzdata>=2022.7 in /usr/local/lib/python3.10/dist-packages (from pandas>=1.2->seaborn->missingno) (2024.2)\n",
            "Requirement already satisfied: six>=1.5 in /usr/local/lib/python3.10/dist-packages (from python-dateutil>=2.7->matplotlib->missingno) (1.16.0)\n",
            "Downloading missingno-0.5.2-py3-none-any.whl (8.7 kB)\n",
            "Installing collected packages: missingno\n",
            "Successfully installed missingno-0.5.2\n"
          ]
        }
      ]
    },
    {
      "cell_type": "code",
      "source": [
        "import missingno as msno"
      ],
      "metadata": {
        "id": "C4KcXwQpo1iz"
      },
      "execution_count": 100,
      "outputs": []
    },
    {
      "cell_type": "code",
      "source": [
        "msno.matrix(apple_1st_by_day)"
      ],
      "metadata": {
        "colab": {
          "base_uri": "https://localhost:8080/",
          "height": 684
        },
        "id": "7Mnun6dsgreH",
        "outputId": "75852c2e-7ee5-454e-d068-d54181046c8b"
      },
      "execution_count": 103,
      "outputs": [
        {
          "output_type": "execute_result",
          "data": {
            "text/plain": [
              "<Axes: >"
            ]
          },
          "metadata": {},
          "execution_count": 103
        },
        {
          "output_type": "display_data",
          "data": {
            "text/plain": [
              "<Figure size 2500x1000 with 2 Axes>"
            ],
            "image/png": "[encoded data removed]"
          },
          "metadata": {}
        }
      ]
    },
    {
      "cell_type": "code",
      "source": [
        "msno.matrix(apple_1st_by_week)"
      ],
      "metadata": {
        "colab": {
          "base_uri": "https://localhost:8080/",
          "height": 710
        },
        "id": "_MSrUlRSgwf6",
        "outputId": "b6e6e149-59c6-45bd-a3a0-5a9bcade76de"
      },
      "execution_count": 104,
      "outputs": [
        {
          "output_type": "execute_result",
          "data": {
            "text/plain": [
              "<Axes: >"
            ]
          },
          "metadata": {},
          "execution_count": 104
        },
        {
          "output_type": "display_data",
          "data": {
            "text/plain": [
              "<Figure size 2500x1000 with 2 Axes>"
            ],
            "image/png": "[encoded data removed]"
          },
          "metadata": {}
        }
      ]
    }
  ]
}