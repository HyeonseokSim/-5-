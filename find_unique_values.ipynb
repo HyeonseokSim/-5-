{
 "cells": [
  {
   "cell_type": "code",
   "execution_count": 1,
   "id": "9f51b918-6bf7-4d51-8d0c-4940298bb2a2",
   "metadata": {},
   "outputs": [],
   "source": [
    "import pandas as pd"
   ]
  },
  {
   "cell_type": "code",
   "execution_count": 3,
   "id": "f18c7b5a-3ca0-4f56-ab8b-6c1a610cf87e",
   "metadata": {},
   "outputs": [],
   "source": [
    "# 데이터를 로드합니다.\n",
    "apple_df = pd.read_csv('사과.csv',encoding='cp949')\n",
    "pear_df = pd.read_csv('배.csv',encoding='cp949')\n",
    "persimmon_df = pd.read_csv('단감.csv',encoding='cp949')\n",
    "beansprouts_df = pd.read_csv('콩나물.csv',encoding='cp949')\n",
    "spinach_df = pd.read_csv('시금치.csv',encoding='cp949')\n",
    "daikon_df = pd.read_csv('무.csv',encoding='cp949')"
   ]
  },
  {
   "cell_type": "markdown",
   "id": "bc9fb129-f7b6-49d8-8fcb-cdeee224b32e",
   "metadata": {},
   "source": [
    "- PRCE_REG_YMD: 가격등록일자\n",
    "- CTNP_NM: 시도명\n",
    "- PDLT_NM: 품목명\n",
    "- SPCS_NM: 품종명\n",
    "- EXMN_SE_NM: 조사구분명 (소매)\n",
    "- BULK_GRAD_NM: 등급명\n",
    "- PDLT_PRCE: 품목가격\n",
    "- RTSL_SMT_UNIT_MG: 소매출하단위크기\n",
    "- RTSL_SMT_UNIT_NM: 소매출하단위명\n",
    "- DCNT_PRCE_YN: 할인가격여부\n",
    "- ETL_LDG_DT: ETL적재일시"
   ]
  },
  {
   "cell_type": "code",
   "execution_count": 5,
   "id": "7b5f2079-49e0-4f3e-bf07-c6857c75790c",
   "metadata": {},
   "outputs": [],
   "source": [
    "# 품종, 등급명, 소매출하단위크기, 소매출하단위명의 고유값을 확인하는 함수\n",
    "def find_unique_values(data):\n",
    "    print(f'품종: {data.SPCS_NM.unique()}')\n",
    "    print(f'등급: {data.BULK_GRAD_NM.unique()}')\n",
    "    print(f'단위크기: {data.RTSL_SMT_UNIT_MG.unique()}')\n",
    "    print(f'단위명: {data.RTSL_SMT_UNIT_NM.unique()}')"
   ]
  },
  {
   "cell_type": "code",
   "execution_count": 8,
   "id": "a3504913-2242-4c39-99a0-b366c6e0d78e",
   "metadata": {},
   "outputs": [],
   "source": [
    "item_dicts = {'사과': apple_df,\n",
    "              '배': pear_df,\n",
    "              '단감': persimmon_df,\n",
    "              '콩나물': beansprouts_df,\n",
    "              '시금치': spinach_df,\n",
    "              '무': daikon_df}"
   ]
  },
  {
   "cell_type": "code",
   "execution_count": 14,
   "id": "1b7a00bb-ceb2-461b-a6be-b6fc3423199b",
   "metadata": {},
   "outputs": [
    {
     "name": "stdout",
     "output_type": "stream",
     "text": [
      "=============== 사과 ===============\n",
      "품종: ['후지' '쓰가루' '홍로' '쓰가루(아오리)']\n",
      "등급: ['중품' '상품']\n",
      "단위크기: [10.]\n",
      "단위명: ['개']\n",
      "=============== 배 ===============\n",
      "품종: ['신고' '원황']\n",
      "등급: ['상품' '중품']\n",
      "단위크기: [10.]\n",
      "단위명: ['개']\n",
      "=============== 단감 ===============\n",
      "품종: ['단감']\n",
      "등급: ['중품' '상품']\n",
      "단위크기: [10.]\n",
      "단위명: ['개']\n",
      "=============== 콩나물 ===============\n",
      "품종: ['풀무원 국산콩 콩나물 340g']\n",
      "등급: ['상품']\n",
      "단위크기: [1.]\n",
      "단위명: ['봉']\n",
      "=============== 시금치 ===============\n",
      "품종: ['시금치']\n",
      "등급: ['상품' '중품']\n",
      "단위크기: [  1. 100.]\n",
      "단위명: ['kg' 'g']\n",
      "=============== 무 ===============\n",
      "품종: ['월동' '가을' '봄' '고랭지']\n",
      "등급: ['상품' '중품']\n",
      "단위크기: [1.]\n",
      "단위명: ['개']\n"
     ]
    }
   ],
   "source": [
    "for name, data in item_dicts.items():\n",
    "    print(f'=============== {name} ===============')\n",
    "    find_unique_values(data)"
   ]
  }
 ],
 "metadata": {
  "kernelspec": {
   "display_name": "Python 3 (ipykernel)",
   "language": "python",
   "name": "python3"
  },
  "language_info": {
   "codemirror_mode": {
    "name": "ipython",
    "version": 3
   },
   "file_extension": ".py",
   "mimetype": "text/x-python",
   "name": "python",
   "nbconvert_exporter": "python",
   "pygments_lexer": "ipython3",
   "version": "3.10.11"
  }
 },
 "nbformat": 4,
 "nbformat_minor": 5
}
