{
 "cells": [
  {
   "cell_type": "code",
   "execution_count": 2,
   "id": "e644233f-30b6-4fc2-a896-df91de47b18b",
   "metadata": {},
   "outputs": [],
   "source": [
    "import pandas as pd"
   ]
  },
  {
   "cell_type": "code",
   "execution_count": 5,
   "id": "9655eb04-291a-449f-8376-7aac0d99aeca",
   "metadata": {},
   "outputs": [],
   "source": [
    "start_year = 2015\n",
    "end_year = 2023\n",
    "\n",
    "for year in range(start_year,end_year+1):\n",
    "    # 데이터 로드\n",
    "    file_name = f'{year}년 농수축산물 일자별 도소매 가격-{year}.csv'\n",
    "    data = pd.read_csv(file_name,\n",
    "                       encoding='cp949',\n",
    "                       low_memory=False,\n",
    "                       usecols=['PRCE_REG_YMD','CTNP_NM','PDLT_NM','SPCS_NM','EXMN_SE_NM','BULK_GRAD_NM','PDLT_PRCE',\n",
    "                                'RTSL_SMT_UNIT_MG','RTSL_SMT_UNIT_NM','DCNT_PRCE_YN','ETL_LDG_DT'])\n",
    "\n",
    "    # 조건에 맞는 데이터만 남기기\n",
    "    data = data[(data['CTNP_NM']=='서울') & (data['EXMN_SE_NM']=='소매')]\n",
    "    data = data[(data['PDLT_NM']=='사과') | (data['PDLT_NM']=='배') | (data['PDLT_NM']=='단감') | (data['PDLT_NM']=='콩나물') | (data['PDLT_NM']=='시금치') | (data['PDLT_NM']=='무')]\n",
    "\n",
    "    # 날짜 기준으로 정렬하기\n",
    "    data = data.sort_values('PRCE_REG_YMD')\n",
    "    \n",
    "    # 데이터 추출하기                                                                                                                                      \n",
    "    data.to_csv(f'{year}_df.csv',index=False,encoding='cp949')"
   ]
  },
  {
   "cell_type": "code",
   "execution_count": 9,
   "id": "3bfe2ef8-5f57-4f9a-a55a-a8cfbe04dc99",
   "metadata": {},
   "outputs": [],
   "source": [
    "for year in range(start_year,end_year+1):\n",
    "    # 연도별 데이터프레임 저장\n",
    "    file_name = f'{year}_df.csv'\n",
    "    globals()[f'df_{year}'] = pd.read_csv(file_name, encoding='cp949')"
   ]
  },
  {
   "cell_type": "code",
   "execution_count": 22,
   "id": "eaab40b5-5ca2-4589-8daf-a8f86b6647f9",
   "metadata": {},
   "outputs": [],
   "source": [
    "df = pd.concat([globals()[f'df_{year}'] for year in range(start_year,end_year+1)],axis=0)"
   ]
  },
  {
   "cell_type": "code",
   "execution_count": 26,
   "id": "bf912dc0-8103-4017-989a-ca5b4600a3dc",
   "metadata": {},
   "outputs": [],
   "source": [
    "# 품목별로 데이터프레임 분리\n",
    "apple_df = df[df['PDLT_NM']=='사과'].reset_index(drop=True)\n",
    "pear_df = df[df['PDLT_NM']=='배'].reset_index(drop=True)\n",
    "persimmon_df = df[df['PDLT_NM']=='단감'].reset_index(drop=True)\n",
    "beansprouts_df = df[df['PDLT_NM']=='콩나물'].reset_index(drop=True)\n",
    "spinach_df = df[df['PDLT_NM']=='시금치'].reset_index(drop=True)\n",
    "daikon_df = df[df['PDLT_NM']=='무'].reset_index(drop=True)"
   ]
  },
  {
   "cell_type": "code",
   "execution_count": 31,
   "id": "62250980-c58f-42a0-91a0-e85c83d09ba6",
   "metadata": {},
   "outputs": [],
   "source": [
    "apple_df.to_csv('사과.csv',index=False,encoding='cp949')\n",
    "pear_df.to_csv('배.csv',index=False,encoding='cp949')\n",
    "persimmon_df.to_csv('단감.csv',index=False,encoding='cp949')\n",
    "beansprouts_df.to_csv('콩나물.csv',index=False,encoding='cp949')\n",
    "spinach_df.to_csv('시금치.csv',index=False,encoding='cp949')\n",
    "daikon_df.to_csv('무.csv',index=False,encoding='cp949')"
   ]
  }
 ],
 "metadata": {
  "kernelspec": {
   "display_name": "Python 3 (ipykernel)",
   "language": "python",
   "name": "python3"
  },
  "language_info": {
   "codemirror_mode": {
    "name": "ipython",
    "version": 3
   },
   "file_extension": ".py",
   "mimetype": "text/x-python",
   "name": "python",
   "nbconvert_exporter": "python",
   "pygments_lexer": "ipython3",
   "version": "3.10.11"
  }
 },
 "nbformat": 4,
 "nbformat_minor": 5
}
